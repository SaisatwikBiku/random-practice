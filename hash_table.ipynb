{
 "cells": [
  {
   "cell_type": "markdown",
   "id": "1e38c0eb",
   "metadata": {},
   "source": [
    "Hash Tables"
   ]
  },
  {
   "cell_type": "code",
   "execution_count": 1,
   "id": "8d18fcdf",
   "metadata": {},
   "outputs": [],
   "source": [
    "# Creating Hash Table\n",
    "\n",
    "hash_table = [None] * 10  # Initialize a hash table with 10 slots"
   ]
  },
  {
   "cell_type": "code",
   "execution_count": 2,
   "id": "60b032d4",
   "metadata": {},
   "outputs": [],
   "source": [
    "# creating hash function\n",
    "\n",
    "def hash_function(value):\n",
    "    sum_of_chars = 0\n",
    "    for char in value:\n",
    "        sum_of_chars += ord(char)\n",
    "    return sum_of_chars % len(hash_table)"
   ]
  },
  {
   "cell_type": "code",
   "execution_count": 3,
   "id": "137b3629",
   "metadata": {},
   "outputs": [
    {
     "data": {
      "text/plain": [
       "7"
      ]
     },
     "execution_count": 3,
     "metadata": {},
     "output_type": "execute_result"
    }
   ],
   "source": [
    "hash_function(\"bob\")"
   ]
  },
  {
   "cell_type": "code",
   "execution_count": 4,
   "id": "4aa6317c",
   "metadata": {},
   "outputs": [],
   "source": [
    "# function that adds value to hash table\n",
    "\n",
    "def add(name):\n",
    "    index = hash_function(name)\n",
    "    hash_table[index] = name"
   ]
  },
  {
   "cell_type": "code",
   "execution_count": 5,
   "id": "8c0307e9",
   "metadata": {},
   "outputs": [],
   "source": [
    "add(\"bob\")"
   ]
  },
  {
   "cell_type": "code",
   "execution_count": 6,
   "id": "7e6f4d68",
   "metadata": {},
   "outputs": [
    {
     "name": "stdout",
     "output_type": "stream",
     "text": [
      "[None, None, None, None, None, None, None, 'bob', None, None]\n"
     ]
    }
   ],
   "source": [
    "print(hash_table)"
   ]
  },
  {
   "cell_type": "code",
   "execution_count": 7,
   "id": "3d57c410",
   "metadata": {},
   "outputs": [],
   "source": [
    "# looking up for name in hash table\n",
    "\n",
    "def contains(name):\n",
    "    index = hash_function(name)\n",
    "    return hash_table[index] == name"
   ]
  },
  {
   "cell_type": "code",
   "execution_count": 8,
   "id": "f4a3d989",
   "metadata": {},
   "outputs": [
    {
     "data": {
      "text/plain": [
       "True"
      ]
     },
     "execution_count": 8,
     "metadata": {},
     "output_type": "execute_result"
    }
   ],
   "source": [
    "contains(\"bob\")"
   ]
  },
  {
   "cell_type": "code",
   "execution_count": 9,
   "id": "d9d85814",
   "metadata": {},
   "outputs": [],
   "source": [
    "add(\"Sai\")"
   ]
  },
  {
   "cell_type": "code",
   "execution_count": 10,
   "id": "3c3f37b4",
   "metadata": {},
   "outputs": [],
   "source": [
    "add(\"Sid\")"
   ]
  },
  {
   "cell_type": "code",
   "execution_count": 11,
   "id": "a24aef5a",
   "metadata": {},
   "outputs": [
    {
     "name": "stdout",
     "output_type": "stream",
     "text": [
      "[None, None, None, None, None, 'Sai', None, 'bob', 'Sid', None]\n"
     ]
    }
   ],
   "source": [
    "print(hash_table)"
   ]
  },
  {
   "cell_type": "markdown",
   "id": "b8af8776",
   "metadata": {},
   "source": [
    "Handling Collisions"
   ]
  },
  {
   "cell_type": "code",
   "execution_count": 17,
   "id": "d8ac1383",
   "metadata": {},
   "outputs": [],
   "source": [
    "# creating a new hash table with collision handling\n",
    "\n",
    "hash_table_with_collision_handling = [[] for _ in range(10)]  # Initialize a hash table with 10 buckets, each bucket is a list"
   ]
  },
  {
   "cell_type": "code",
   "execution_count": 19,
   "id": "72053e98",
   "metadata": {},
   "outputs": [],
   "source": [
    "# hash function for new hash table\n",
    "\n",
    "def add_without_collision(value):\n",
    "    sum_of_char = 0\n",
    "    for char in value:\n",
    "        sum_of_char += ord(char)\n",
    "    return sum_of_char % len(hash_table_with_collision_handling)    "
   ]
  },
  {
   "cell_type": "code",
   "execution_count": 20,
   "id": "5a6651ce",
   "metadata": {},
   "outputs": [
    {
     "data": {
      "text/plain": [
       "7"
      ]
     },
     "execution_count": 20,
     "metadata": {},
     "output_type": "execute_result"
    }
   ],
   "source": [
    "add_without_collision(\"bob\")"
   ]
  },
  {
   "cell_type": "code",
   "execution_count": 21,
   "id": "4b691b0e",
   "metadata": {},
   "outputs": [],
   "source": [
    "# add value to new hash table\n",
    "\n",
    "def add_to_hash_table_without_collision(name):\n",
    "    index = add_without_collision(name)\n",
    "    hash_table_with_collision_handling[index].append(name)"
   ]
  },
  {
   "cell_type": "code",
   "execution_count": 22,
   "id": "6b38f7a2",
   "metadata": {},
   "outputs": [],
   "source": [
    "add_to_hash_table_without_collision('Lisa')\n",
    "add_to_hash_table_without_collision('Stuart')"
   ]
  },
  {
   "cell_type": "code",
   "execution_count": 24,
   "id": "7104cc03",
   "metadata": {},
   "outputs": [
    {
     "name": "stdout",
     "output_type": "stream",
     "text": [
      "[[], [], [], ['Lisa', 'Stuart'], [], [], [], [], [], []]\n"
     ]
    }
   ],
   "source": [
    "print(hash_table_with_collision_handling)"
   ]
  },
  {
   "cell_type": "code",
   "execution_count": null,
   "id": "5de3b0e5",
   "metadata": {},
   "outputs": [],
   "source": []
  }
 ],
 "metadata": {
  "kernelspec": {
   "display_name": "Python 3.13 (Frameworks)",
   "language": "python",
   "name": "py313"
  },
  "language_info": {
   "codemirror_mode": {
    "name": "ipython",
    "version": 3
   },
   "file_extension": ".py",
   "mimetype": "text/x-python",
   "name": "python",
   "nbconvert_exporter": "python",
   "pygments_lexer": "ipython3",
   "version": "3.13.7"
  }
 },
 "nbformat": 4,
 "nbformat_minor": 5
}
