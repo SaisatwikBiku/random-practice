{
 "cells": [
  {
   "cell_type": "markdown",
   "id": "1e38c0eb",
   "metadata": {},
   "source": [
    "Hash Tables"
   ]
  },
  {
   "cell_type": "code",
   "execution_count": 1,
   "id": "8d18fcdf",
   "metadata": {},
   "outputs": [],
   "source": [
    "# Creating Hash Table\n",
    "\n",
    "hash_table = [None] * 10  # Initialize a hash table with 10 slots"
   ]
  },
  {
   "cell_type": "code",
   "execution_count": 2,
   "id": "60b032d4",
   "metadata": {},
   "outputs": [],
   "source": [
    "# creating hash function\n",
    "\n",
    "def hash_function(value):\n",
    "    sum_of_chars = 0\n",
    "    for char in value:\n",
    "        sum_of_chars += ord(char)\n",
    "    return sum_of_chars % len(hash_table)"
   ]
  },
  {
   "cell_type": "code",
   "execution_count": 3,
   "id": "137b3629",
   "metadata": {},
   "outputs": [
    {
     "data": {
      "text/plain": [
       "7"
      ]
     },
     "execution_count": 3,
     "metadata": {},
     "output_type": "execute_result"
    }
   ],
   "source": [
    "hash_function(\"bob\")"
   ]
  },
  {
   "cell_type": "code",
   "execution_count": 4,
   "id": "4aa6317c",
   "metadata": {},
   "outputs": [],
   "source": [
    "# function that adds value to hash table\n",
    "\n",
    "def add(name):\n",
    "    index = hash_function(name)\n",
    "    hash_table[index] = name"
   ]
  },
  {
   "cell_type": "code",
   "execution_count": 5,
   "id": "8c0307e9",
   "metadata": {},
   "outputs": [],
   "source": [
    "add(\"bob\")"
   ]
  },
  {
   "cell_type": "code",
   "execution_count": 6,
   "id": "7e6f4d68",
   "metadata": {},
   "outputs": [
    {
     "name": "stdout",
     "output_type": "stream",
     "text": [
      "[None, None, None, None, None, None, None, 'bob', None, None]\n"
     ]
    }
   ],
   "source": [
    "print(hash_table)"
   ]
  },
  {
   "cell_type": "code",
   "execution_count": null,
   "id": "3d57c410",
   "metadata": {},
   "outputs": [],
   "source": []
  }
 ],
 "metadata": {
  "kernelspec": {
   "display_name": "Python 3.13 (Frameworks)",
   "language": "python",
   "name": "py313"
  },
  "language_info": {
   "codemirror_mode": {
    "name": "ipython",
    "version": 3
   },
   "file_extension": ".py",
   "mimetype": "text/x-python",
   "name": "python",
   "nbconvert_exporter": "python",
   "pygments_lexer": "ipython3",
   "version": "3.13.7"
  }
 },
 "nbformat": 4,
 "nbformat_minor": 5
}
