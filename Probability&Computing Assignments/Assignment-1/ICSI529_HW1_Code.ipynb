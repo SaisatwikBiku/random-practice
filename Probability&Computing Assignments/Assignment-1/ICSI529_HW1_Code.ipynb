{
 "cells": [
  {
   "cell_type": "markdown",
   "id": "48875019",
   "metadata": {},
   "source": [
    "# ICSI 529 — Homework 1 : Part 2: Code Part\n",
    "**Problems covered:** 1.1.1, 1.1.2, 1.1.3"
   ]
  },
  {
   "cell_type": "code",
   "execution_count": 7,
   "id": "04a93d25",
   "metadata": {},
   "outputs": [],
   "source": [
    "import numpy as np\n",
    "import time"
   ]
  },
  {
   "cell_type": "markdown",
   "id": "6c9f1db8",
   "metadata": {},
   "source": [
    "1.1.1 — verifyMatrixMultiplication"
   ]
  },
  {
   "cell_type": "code",
   "execution_count": 8,
   "id": "a12d78f2",
   "metadata": {},
   "outputs": [
    {
     "name": "stdout",
     "output_type": "stream",
     "text": [
      "1.1.1 Checks\n",
      "-------------------\n",
      "Correct case: True\n",
      "Incorrect case: False\n"
     ]
    }
   ],
   "source": [
    "def verifyMatrixMultiplication(A, B, C, t=10, atol=1e-10, rgen=None):\n",
    "\n",
    "    rng = np.random.default_rng() if rgen is None else rgen\n",
    "    n = A.shape[0]\n",
    "    for _ in range(t):\n",
    "        r = rng.integers(0, 2, size=(n, 1))   # r in {0,1}^n as column\n",
    "        left  = A @ (B @ r)\n",
    "        right = C @ r\n",
    "        if not np.allclose(left, right, atol=atol, rtol=0.0):\n",
    "            return False\n",
    "    return True\n",
    "\n",
    "rng = np.random.default_rng(42)\n",
    "n_small = 5\n",
    "A = rng.random((n_small, n_small))\n",
    "B = rng.random((n_small, n_small))\n",
    "C = A @ B                      # for correct case\n",
    "C_bad = C + 1e-6 * np.ones_like(C)  # for incorrect case\n",
    "\n",
    "print(\"1.1.1 Checks\")\n",
    "print(\"-------------------\")\n",
    "print(\"Correct case:\", verifyMatrixMultiplication(A, B, C, t=10, rgen=rng))\n",
    "print(\"Incorrect case:\", verifyMatrixMultiplication(A, B, C_bad, t=10, rgen=rng))"
   ]
  },
  {
   "cell_type": "markdown",
   "id": "312433da",
   "metadata": {},
   "source": [
    "1.1.2 — generateABC"
   ]
  },
  {
   "cell_type": "code",
   "execution_count": 9,
   "id": "a44200fd",
   "metadata": {},
   "outputs": [
    {
     "name": "stdout",
     "output_type": "stream",
     "text": [
      "1.1.2 Demonstration\n",
      "-------------------\n",
      "IsEqual=True  -> True\n",
      "IsEqual=False -> False\n"
     ]
    }
   ],
   "source": [
    "def generateABC(n, isEqual, rgen=None):\n",
    "    rng = np.random.default_rng() if rgen is None else rgen\n",
    "    A = rng.random((n, n))\n",
    "    B = rng.random((n, n))\n",
    "    AB = A @ B\n",
    "    if isEqual:\n",
    "        C = AB\n",
    "    else:\n",
    "        u = rng.normal(size=(n, 1))\n",
    "        v = rng.normal(size=(1, n))\n",
    "        C = AB + 1e-6 * (u @ v)\n",
    "    return A, B, C\n",
    "\n",
    "rng = np.random.default_rng(123)\n",
    "A1, B1, C1 = generateABC(6, True, rgen=rng)\n",
    "A2, B2, C2 = generateABC(6, False, rgen=rng)\n",
    "\n",
    "print(\"1.1.2 Demonstration\")\n",
    "print(\"-------------------\")\n",
    "print(\"IsEqual=True  ->\", verifyMatrixMultiplication(A1, B1, C1, t=10, rgen=rng))\n",
    "print(\"IsEqual=False ->\", verifyMatrixMultiplication(A2, B2, C2, t=10, rgen=rng))"
   ]
  },
  {
   "cell_type": "markdown",
   "id": "77dd9976",
   "metadata": {},
   "source": [
    "1.1.3 — Experiment (n=100, trials=1000, t=10)"
   ]
  },
  {
   "cell_type": "code",
   "execution_count": null,
   "id": "af8fcdd3",
   "metadata": {},
   "outputs": [
    {
     "name": "stdout",
     "output_type": "stream",
     "text": [
      "1.1.3 Experiment \n",
      "n=100, trials=1000, t=10, seed=529\n",
      "Incorrect on FALSE instances: 0.000000\n",
      "Incorrect on TRUE  instances: 0.000000\n",
      "Elapsed: 0.38s\n",
      "Expected: FALSE ≈ 2^{-t}, TRUE ≈ 0\n"
     ]
    }
   ],
   "source": [
    "def experiment(n=100, trials=1000, t=10, seed=529):\n",
    "    rng = np.random.default_rng(seed)\n",
    "    false_misclass = 0  # AB != C\n",
    "    true_misclass  = 0  # AB == C\n",
    "\n",
    "    start = time.time()\n",
    "\n",
    "\n",
    "    for _ in range(trials):\n",
    "        A_f, B_f, C_f = generateABC(n, False, rgen=rng)\n",
    "        if verifyMatrixMultiplication(A_f, B_f, C_f, t=t, rgen=rng):\n",
    "            false_misclass += 1\n",
    "\n",
    "        A_t, B_t, C_t = generateABC(n, True, rgen=rng)\n",
    "        if not verifyMatrixMultiplication(A_t, B_t, C_t, t=t, rgen=rng):\n",
    "            true_misclass += 1\n",
    "\n",
    "            \n",
    "    dur = time.time() - start\n",
    "\n",
    "    frac_false = false_misclass / trials\n",
    "    frac_true  = true_misclass  / trials\n",
    "\n",
    "    print(\"1.1.3 Experiment \")\n",
    "    print(\"-------------------\")\n",
    "    print(f\"Incorrect for FALSE instances: {frac_false:.6f}\")\n",
    "    print(f\"Incorrect for TRUE  instances: {frac_true:.6f}\")\n",
    "    print(f\"Elapsed: {dur:.2f}s\")\n",
    "    print(\"Expected values: FALSE ≈ 2^{-t}, TRUE ≈ 0\")\n",
    "\n",
    "# run experiment : Example run with following values\n",
    "experiment(n=100, trials=1000, t=10, seed=529)"
   ]
  }
 ],
 "metadata": {
  "kernelspec": {
   "display_name": "Python 3",
   "language": "python",
   "name": "python3"
  },
  "language_info": {
   "codemirror_mode": {
    "name": "ipython",
    "version": 3
   },
   "file_extension": ".py",
   "mimetype": "text/x-python",
   "name": "python",
   "nbconvert_exporter": "python",
   "pygments_lexer": "ipython3",
   "version": "3.13.7"
  }
 },
 "nbformat": 4,
 "nbformat_minor": 5
}
